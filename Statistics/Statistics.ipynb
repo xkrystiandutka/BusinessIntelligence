{
 "cells": [
  {
   "cell_type": "markdown",
   "id": "f26c5c83-fbba-4bf1-89f7-6f8250f31d26",
   "metadata": {},
   "source": [
    "# Statistics"
   ]
  },
  {
   "cell_type": "markdown",
   "id": "ff1f2524-110d-4806-8767-0ed6e7f0a9b2",
   "metadata": {},
   "source": [
    "# Population and Sample\n",
    "\n",
    "### The high school principal wants to conduct a survey on student satisfaction for the entire school. You were tasked with contacting your classmates about their opinion and then presenting them to the principal. Would you say this was population or sample data? What is the value you presented called?\n",
    "- sample, statistic\n",
    "\n",
    "\n",
    "You interviewed only one class – your own. This is a sample taken from the population of all students studying in the high school. Since it was a sample, the value associated with it was a statistic.\n",
    "\n",
    "### You are trying to estimate the average valuation of start-ups in the USA. Imagine you are able to visit 200 start-ups in Silicon Valley in a random manner. What is a possible problem of your study?\n",
    "- The sample is not representative\n",
    "\n",
    "You were estimating a statistic for all start-ups in the USA. However, your sample was taken only from startups in Silicon Valley. While this may be a proxy for California, it does not represent the other 49 states. Therefore, the sample is not representative.\n"
   ]
  },
  {
   "cell_type": "markdown",
   "id": "0e738b5f-623c-4492-9a60-bd3c68f4f2d7",
   "metadata": {},
   "source": [
    "# \n",
    "# Descriptive Statistics\n",
    "\n",
    "## Types of data\n",
    "\n",
    "### A variable represents the weight of a person. What type of data does it represent?\n",
    "- numerical, continuous\n",
    "\n",
    "The data is numerical, as it represents a number. As we said in the lesson, weight is a continuous variable.\n",
    "\n",
    "### A variable represents the gender of a person. What type of data does it represent?\n",
    "- categorical\n",
    "\n",
    "A variable represents the gender of a person. What type of data does it represent?"
   ]
  },
  {
   "cell_type": "markdown",
   "id": "38445e5a-1fae-4e75-8fc6-0b7c843d3778",
   "metadata": {},
   "source": [
    "## Levels of measurement\n",
    "\n",
    "### A variable represents the gender of a person. What is the level of measurement?\n",
    "- nominal\n",
    "\n",
    "Gender is a nominal variable. The possibilities cannot be put in any order.\n",
    "\n",
    "### A variable represents the weight of a person. What is the level of measurement?\n",
    "- ratio\n",
    "\n",
    "Weight is a ratio variable. It is quantitative and there is a true zero point."
   ]
  },
  {
   "cell_type": "markdown",
   "id": "416b7f5d-f106-471d-8f6b-a687d301a161",
   "metadata": {},
   "source": [
    "## Categorical variables. Visualization Techniques\n",
    "\n",
    "### According to the Pareto Principle:\n",
    "- 80% of mistakes can be avoided by fixing 20% of the causes"
   ]
  },
  {
   "cell_type": "markdown",
   "id": "c59b6dfe-4d43-4fa8-9dc5-d058399d7c69",
   "metadata": {},
   "source": [
    "## Numerical variables. Using a frequency distribution table\n",
    "\n",
    "### If the frequency of a variable is 20 and its total frequency of all variables is 120, what is its relative frequency?\n",
    "- 0.17"
   ]
  },
  {
   "cell_type": "code",
   "execution_count": null,
   "id": "9607fbd2-09aa-4524-9709-75d788b87543",
   "metadata": {},
   "outputs": [],
   "source": []
  }
 ],
 "metadata": {
  "kernelspec": {
   "display_name": "Python 3 (ipykernel)",
   "language": "python",
   "name": "python3"
  },
  "language_info": {
   "codemirror_mode": {
    "name": "ipython",
    "version": 3
   },
   "file_extension": ".py",
   "mimetype": "text/x-python",
   "name": "python",
   "nbconvert_exporter": "python",
   "pygments_lexer": "ipython3",
   "version": "3.9.7"
  }
 },
 "nbformat": 4,
 "nbformat_minor": 5
}
