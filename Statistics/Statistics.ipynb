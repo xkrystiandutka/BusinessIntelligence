{
 "cells": [
  {
   "cell_type": "markdown",
   "id": "f26c5c83-fbba-4bf1-89f7-6f8250f31d26",
   "metadata": {},
   "source": [
    "# Statistics"
   ]
  },
  {
   "cell_type": "markdown",
   "id": "ff1f2524-110d-4806-8767-0ed6e7f0a9b2",
   "metadata": {},
   "source": [
    "# Population and Sample\n",
    "\n",
    "### The high school principal wants to conduct a survey on student satisfaction for the entire school. You were tasked with contacting your classmates about their opinion and then presenting them to the principal. Would you say this was population or sample data? What is the value you presented called?\n",
    "- sample, statistic\n",
    "\n",
    "\n",
    "You interviewed only one class – your own. This is a sample taken from the population of all students studying in the high school. Since it was a sample, the value associated with it was a statistic.\n",
    "\n",
    "### You are trying to estimate the average valuation of start-ups in the USA. Imagine you are able to visit 200 start-ups in Silicon Valley in a random manner. What is a possible problem of your study?\n",
    "- The \n"
   ]
  },
  {
   "cell_type": "code",
   "execution_count": null,
   "id": "5d294799-0b80-478a-baae-74db20da298b",
   "metadata": {},
   "outputs": [],
   "source": []
  }
 ],
 "metadata": {
  "kernelspec": {
   "display_name": "Python 3 (ipykernel)",
   "language": "python",
   "name": "python3"
  },
  "language_info": {
   "codemirror_mode": {
    "name": "ipython",
    "version": 3
   },
   "file_extension": ".py",
   "mimetype": "text/x-python",
   "name": "python",
   "nbconvert_exporter": "python",
   "pygments_lexer": "ipython3",
   "version": "3.9.7"
  }
 },
 "nbformat": 4,
 "nbformat_minor": 5
}
