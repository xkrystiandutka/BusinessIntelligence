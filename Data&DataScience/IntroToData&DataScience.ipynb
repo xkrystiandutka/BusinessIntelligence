{
 "cells": [
  {
   "cell_type": "markdown",
   "id": "5ef9e78b-22b4-4fbf-a802-fb4eb8761232",
   "metadata": {},
   "source": [
    "# Intro To Data and Data Science\n",
    "# The Different Data Science Fields"
   ]
  },
  {
   "cell_type": "markdown",
   "id": "a379875b-1d31-493f-a67a-ab736d732e66",
   "metadata": {},
   "source": [
    "## Intro to Business Analytics, Data Analytics, and Data Science "
   ]
  },
  {
   "cell_type": "markdown",
   "id": "73578ddb-b24c-430f-b9a0-da1ddb318e39",
   "metadata": {},
   "source": [
    "### Which of the following is not considered a cause of confusion about the precise meaning of the data science buzzwords?\n",
    "- The speed with which new data science terms are appearing\n",
    "\n",
    "### Which of the following is related to the meaning of the term analytics?\n",
    "- Analytics is the application of logical and computational reasoning to the component parts obtained in an analysis\n",
    "\n",
    "### Which of the terms relates to the field of business analytics only?\n",
    "- Qualitative analytics\n",
    "\n",
    "### Which of the following is not considered a data analytics activity?\n",
    "- Business case studies\n",
    "\n",
    "### Which of the following is considered data science?\n",
    "- Sales forecasting"
   ]
  },
  {
   "cell_type": "markdown",
   "id": "e965c6f2-38a3-4525-9a8a-3661fb913bde",
   "metadata": {},
   "source": [
    "## Adding Business Intelligence (BI), Machine Learning (ML), and AI to the Picture\n",
    "### Given that all activities can be done with ML and all can be done without ML, choose the best answer. Which of the following is considered Data science but not Machine learning?\n",
    "- Sales forecasting\n",
    "### Which of the following is not an example of where Machine Learning is being applied today?\n",
    "- Symbolic reasoning"
   ]
  },
  {
   "cell_type": "markdown",
   "id": "99dcd3e7-f83c-4be9-9dcd-d7d434b26f7b",
   "metadata": {},
   "source": [
    "## An Overview of our Data Science Infographic\n",
    "### From a data scientist’s perspective, the solution of every task begins:\n",
    "- with a proper dataset\n",
    "\n",
    "\n",
    "\n",
    "\n",
    "\n",
    "\n",
    "\n"
   ]
  },
  {
   "cell_type": "markdown",
   "id": "0ad36dda-f377-46bd-9acc-ca378b27f54e",
   "metadata": {
    "tags": []
   },
   "source": [
    "#\n",
    "# The Realationship between Different Fields"
   ]
  },
  {
   "cell_type": "markdown",
   "id": "58e530f3-2984-4107-a5f6-dcfab0ba6268",
   "metadata": {},
   "source": [
    "## When are Traditional data, Big Data, BI, Traditional Data Science and ML applied"
   ]
  },
  {
   "cell_type": "markdown",
   "id": "2c4e765d-b4c0-42e5-a43d-a448cc5b8972",
   "metadata": {},
   "source": [
    "### According to our infographic, which of the following is not considered data science?\n",
    "- Big Data"
   ]
  },
  {
   "cell_type": "markdown",
   "id": "b271e0d5-861c-4ce9-8cfd-9ff589bd756b",
   "metadata": {},
   "source": [
    "#\n",
    "# What is the Purpose of each Data Science Field\n",
    "## Why do we Need each of these Disciplines?\n",
    "### Which of the following columns from our infographic contain activities that are said to belong to the field of ‘predictive analytics’ and do not aim at explaining past behaviour? \n",
    "- Traditional methods"
   ]
  },
  {
   "cell_type": "code",
   "execution_count": null,
   "id": "f0c3fb13-22d0-477a-a28a-e6132bd0feb7",
   "metadata": {},
   "outputs": [],
   "source": []
  }
 ],
 "metadata": {
  "kernelspec": {
   "display_name": "Python 3 (ipykernel)",
   "language": "python",
   "name": "python3"
  },
  "language_info": {
   "codemirror_mode": {
    "name": "ipython",
    "version": 3
   },
   "file_extension": ".py",
   "mimetype": "text/x-python",
   "name": "python",
   "nbconvert_exporter": "python",
   "pygments_lexer": "ipython3",
   "version": "3.9.7"
  }
 },
 "nbformat": 4,
 "nbformat_minor": 5
}
