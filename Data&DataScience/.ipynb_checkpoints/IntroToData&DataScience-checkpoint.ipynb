{
 "cells": [
  {
   "cell_type": "markdown",
   "id": "5ef9e78b-22b4-4fbf-a802-fb4eb8761232",
   "metadata": {},
   "source": [
    "# Intro To Data and Data Science\n",
    "# The Different Data Science Fields"
   ]
  },
  {
   "cell_type": "markdown",
   "id": "a379875b-1d31-493f-a67a-ab736d732e66",
   "metadata": {},
   "source": [
    "## Intro to Business Analytics, Data Analytics, and Data Science "
   ]
  },
  {
   "cell_type": "markdown",
   "id": "73578ddb-b24c-430f-b9a0-da1ddb318e39",
   "metadata": {},
   "source": [
    "### Which of the following is not considered a cause of confusion about the precise meaning of the data science buzzwords?\n",
    "- The speed with which new data science terms are appearing\n",
    "\n",
    "### Which of the following is related to the meaning of the term analytics?\n",
    "- Analytics is the application of logical and computational reasoning to the component parts obtained in an analysis\n",
    "\n",
    "### Which of the terms relates to the field of business analytics only?\n",
    "- Qualitative analytics\n",
    "\n",
    "### Which of the following is not considered a data analytics activity?\n",
    "- Business case studies\n",
    "\n",
    "### Which of the following is considered data science?\n",
    "- Sales forecasting"
   ]
  },
  {
   "cell_type": "markdown",
   "id": "e965c6f2-38a3-4525-9a8a-3661fb913bde",
   "metadata": {},
   "source": [
    "## Adding Business Intelligence (BI), Machine Learning (ML), and AI to the Picture\n",
    "### Given that all activities can be done with ML and all can be done without ML, choose the best answer. Which of the following is considered Data science but not Machine learning?\n",
    "- Sales forecasting\n",
    "\n",
    "### Which of the following is not an example of where Machine Learning is being applied today?\n",
    "- Symbolic reasoning"
   ]
  },
  {
   "cell_type": "markdown",
   "id": "99dcd3e7-f83c-4be9-9dcd-d7d434b26f7b",
   "metadata": {},
   "source": [
    "## An Overview of our Data Science Infographic\n",
    "### From a data scientist’s perspective, the solution of every task begins:\n",
    "- with a proper dataset\n",
    "\n",
    "\n",
    "\n",
    "\n",
    "\n",
    "\n",
    "\n"
   ]
  },
  {
   "cell_type": "markdown",
   "id": "0ad36dda-f377-46bd-9acc-ca378b27f54e",
   "metadata": {
    "tags": []
   },
   "source": [
    "# \n",
    "# The Realationship between Different Fields"
   ]
  },
  {
   "cell_type": "markdown",
   "id": "58e530f3-2984-4107-a5f6-dcfab0ba6268",
   "metadata": {},
   "source": [
    "## When are Traditional data, Big Data, BI, Traditional Data Science and ML applied"
   ]
  },
  {
   "cell_type": "markdown",
   "id": "2c4e765d-b4c0-42e5-a43d-a448cc5b8972",
   "metadata": {},
   "source": [
    "### According to our infographic, which of the following is not considered data science?\n",
    "- Big Data"
   ]
  },
  {
   "cell_type": "markdown",
   "id": "b271e0d5-861c-4ce9-8cfd-9ff589bd756b",
   "metadata": {},
   "source": [
    "# \n",
    "# What is the Purpose of each Data Science Field\n",
    "## Why do we Need each of these Disciplines?\n",
    "### Which of the following columns from our infographic contain activities that are said to belong to the field of ‘predictive analytics’ and do not aim at explaining past behaviour? \n",
    "- Traditional methods"
   ]
  },
  {
   "cell_type": "markdown",
   "id": "0b79fb6f-f4f2-4021-86d5-89edcbfe59b5",
   "metadata": {},
   "source": [
    "# \n",
    "# Common Data Science Techniques\n",
    "## Traditional Data: Techniques\n",
    "### Which of the following is related to the pre-processing of a traditional data set?\n",
    "- all of the above (Class labelling, Data cleansing, Dealing with missing values)"
   ]
  },
  {
   "cell_type": "markdown",
   "id": "03ff0601-c7b4-49be-94c8-ef7dd0318130",
   "metadata": {},
   "source": [
    "## Big Data: Techniques\n",
    "### Which of the following do you encounter when working with big data?\n",
    "- All of the above (Text data, Integer, Digital image data)"
   ]
  },
  {
   "cell_type": "markdown",
   "id": "bde62fe2-2342-459c-8a7b-eee9ecf1a5db",
   "metadata": {},
   "source": [
    "## Business Intelligence (BI): Techniques\n",
    "### The process of representing observations as numbers is called:\n",
    "- Quantification\n",
    "\n",
    "### A measure that has a business meaning attached is called:\n",
    "- a metric\n",
    "\n",
    "### A KPI (Key Performance Indicator) can be best defined as: \n",
    "\n",
    "- a metric that is tightly aligned with your business objectives\n",
    "\n",
    "### The job of a business intelligence analyst always involves the creation of:\n",
    "\n",
    "- All of the above (reports, dashboards, KPIs)"
   ]
  },
  {
   "cell_type": "markdown",
   "id": "a845aeae-d166-4c06-b6d6-29b4f37420eb",
   "metadata": {},
   "source": [
    "## Traditional Methods: Techniques\n",
    "### In business and statistics, which is the general term that refers to using a model for quantifying causal relationships?\n",
    "- regression analysis\n",
    "### Which technique can be implemented if you want to reduce the dimensionality of a certain statistical problem?\n",
    "- factor analysis\n",
    "### Which technique is associated with plotting values against time, shown always on the horizontal line?\n",
    "- time-series analysis\n",
    "### When the data is divided into a few groups, you should apply:\n",
    "- cluster analysis"
   ]
  },
  {
   "cell_type": "markdown",
   "id": "e6f995d0-0eb0-4099-ae16-7b60b7a91964",
   "metadata": {},
   "source": [
    "## Machine Learning (ML): Techniques\n",
    "\n",
    "### Which of the following statements is true?\n",
    "- The core of machine learning is creating an algorithm, which a computer then uses to find a model that fits the data as best as possible \n",
    "- In machine learning, one does not give the machine instructions on how to find a model. Rather, one provides it with algorithms which give the machine directions on how to learn on its own\n",
    "- A machine learning algorithm is like a trial-and-error process, but the special thing about it, is that each consecutive trial is at least as good as the previous one\n",
    "\n",
    "### Which line represents the four ingredients of any machine learning algorithm?\n",
    "- Data, model, objective function, optimization algorithm"
   ]
  },
  {
   "cell_type": "markdown",
   "id": "af7e8d79-bf44-4937-9519-7efa5fa4de2f",
   "metadata": {},
   "source": [
    "## Machine Learning (ML): Types of Machine Learning\n",
    "### In which type of machine learning is one always working with unlabelled data?\n",
    "- Unsupervised learing\n",
    "### In reinforcement learning, a reward system is being used to improve the machine learning model at hand. The idea of using this reward system is to:\n",
    "- to maximize the objective function"
   ]
  },
  {
   "cell_type": "markdown",
   "id": "339e0c55-9f83-4708-9cd7-45bdc394d4bd",
   "metadata": {},
   "source": [
    "## Machine Learning (ML): Real-life Examples\n",
    "### Which of the following is a typical real-life example where big data techniques are being applied?\n",
    "- Social media\n",
    "### Which of the following is a typical real-life example where BI techniques are being applied?\n",
    "- Inventory management\n",
    "### Which of the following is a typical real-life example where machine learning techniques are being applied?\n",
    "- Client retention\n",
    "### Which of the following is a typical real-life example where traditional data techniques are being applied?\n",
    "- Basic customer data\n",
    "### Which of the following is a TYPICAL real-life example where traditional data science techniques are being applied?\n",
    "- Sales forecasting"
   ]
  },
  {
   "cell_type": "markdown",
   "id": "c1b1f834-8673-4b37-84f9-15e619dc7185",
   "metadata": {},
   "source": [
    "# \n",
    "# Common Data Science Tools \n",
    "## Programming Languages & Software Employed in Data Science - All the Tools Needed\n",
    "\n",
    "### Which software tool(s) are constantly being used across all five categories from our infographic?\n",
    "- Python and R\n",
    "\n",
    "### Which software tool is frequently used when working with traditional data or when doing a BI analysis?\n",
    "- Excel\n",
    "\n",
    "### Knowing which programming language is a huge advantage if you are supposed to be working with big data and/or machine learning?\n",
    "- Java\n",
    "\n",
    "### Econometric time-series analysis is the domain of which software tool?\n",
    "- E-views"
   ]
  },
  {
   "cell_type": "markdown",
   "id": "391da4d0-f2ef-494b-8295-86d80257c232",
   "metadata": {},
   "source": [
    "# \n",
    "# Data Science Career Paths\n",
    "## Data Science Job Positions: What do they Involve and What to Look out for?\n",
    "### “Her tasks step on the work of the data architect. Her primary job responsibility is to further process the obtained data so that it is ready for analysis.”\n",
    "- data engineer"
   ]
  },
  {
   "cell_type": "markdown",
   "id": "fd3fe907-9874-4e2b-a755-8bcc7c2c056a",
   "metadata": {},
   "source": [
    "# \n",
    "# Dispelling common Misconceptions\n",
    "## Dispelling common Misconceptions\n",
    "### Which of the following is true?\n",
    "- None of the above (200,000 lines of data constitute big data, Every type of analysis can be considered BI, SWOT is a type of quantitative analysis)"
   ]
  },
  {
   "cell_type": "code",
   "execution_count": null,
   "id": "bfaa1882-108b-41b3-97a3-f33a7829c9fe",
   "metadata": {},
   "outputs": [],
   "source": []
  }
 ],
 "metadata": {
  "kernelspec": {
   "display_name": "Python 3 (ipykernel)",
   "language": "python",
   "name": "python3"
  },
  "language_info": {
   "codemirror_mode": {
    "name": "ipython",
    "version": 3
   },
   "file_extension": ".py",
   "mimetype": "text/x-python",
   "name": "python",
   "nbconvert_exporter": "python",
   "pygments_lexer": "ipython3",
   "version": "3.9.7"
  }
 },
 "nbformat": 4,
 "nbformat_minor": 5
}
